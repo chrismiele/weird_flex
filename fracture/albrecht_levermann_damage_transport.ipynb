{
 "cells": [
  {
   "cell_type": "markdown",
   "id": "9d879ac9",
   "metadata": {},
   "source": [
    "# Adapting the damage transport mechanism of Albrecht and Levermann to coupled flow-flexure problems\n",
    "\n",
    "The elastic stress field for a coupled SSA flow-flexure system is \n",
    "\n",
    "$$\\sigma_e = -\\zeta\\frac{E}{1 + \\mu}\\left(\\nabla^2\\eta + \\frac{\\mu}{1 - \\mu}tr(\\nabla^2\\eta)\\vec{I}\\right),$$\n",
    "\n",
    "and the viscous deviatoric stress for a coupled flow-flexure system is \n",
    "\n",
    "$$\\tau_\\nu = -2\\nu_f\\nabla^2\\dot{\\eta}\\zeta,$$\n",
    "\n",
    "where all variables are consistent with the notation used throughout this repository. The elastic strain tensor can be expressed \n",
    "\n",
    "$$\\varepsilon = -\\nabla^2\\eta\\zeta,$$\n",
    "\n",
    "while the viscous strain rate tensor is \n",
    "\n",
    "$$\\dot{\\varepsilon} = -\\nabla^2\\dot{\\eta}\\zeta.$$\n",
    "\n",
    "In their SSA application, Albrecht and Levermann define the damage variable $\\psi := \\gamma\\dot{\\varepsilon}_1$, where $\\dot{\\varepsilon}_1$ is the (depth-invariant) first principal strain rate of the SSA and $\\gamma$ is a parameter which may be assumed constant. Because we do not have depth-invariant strains or strain rates, I propose the modified definitions\n",
    "\n",
    "$$\\psi_e = \\frac{1}{H}\\int_{-\\frac{H}{2}}^{\\frac{H}{2}} \\gamma\\varepsilon_1 d\\zeta$$\n",
    "\n",
    "for elastic flexure problems, and \n",
    "\n",
    "$$\\psi_\\nu = \\frac{1}{H}\\int_{-\\frac{H}{2}}^{\\frac{H}{2}} \\gamma\\dot{\\varepsilon}_1d\\zeta$$\n",
    "\n",
    "for viscous flexure problems (notice that the proposed definition for $\\psi_\\nu$ collapses to Albrecht and Levermann's $\\psi$ if $\\dot{\\varepsilon}$ is depth-invariant). $\\psi_e$ and $\\psi_\\nu$ can be simplified as follows:\n",
    "\n",
    "For $\\psi_e$, let $\\lambda_1^e < \\lambda_2^e$ represent the first and second eigenvalues of $-\\nabla^2\\eta$ (i.e., the $\\zeta$-invariant part of $\\varepsilon$). Then $\\lambda_1^e\\zeta$ and $\\lambda_2^e\\zeta$ are eigenvalues of $\\varepsilon = -\\nabla^2\\eta\\zeta$, with the larger of the two determined by the sign of $\\zeta$. Specifically, $\\varepsilon_1 = \\lambda_1^e\\zeta$ when $\\zeta$ is positive, and $\\lambda_2^e\\zeta$ when $\\zeta$ is negative. We can now break $\\psi_e$ up into its lower and upper components, writing:\n",
    "\n",
    "$$\\psi_e = \\frac{1}{H}\\int_{-\\frac{H}{2}}^0\\gamma\\varepsilon_1d\\zeta + \\frac{1}{H}\\int_0^\\frac{H}{2}\\gamma\\varepsilon_1d\\zeta = $$\n",
    "\n",
    "$$= \\frac{1}{H}\\int_{-\\frac{H}{2}}^0\\gamma\\lambda_2^e\\zeta d\\zeta + \\frac{1}{H}\\int_0^\\frac{H}{2}\\gamma\\lambda_1^e\\zeta d\\zeta = $$\n",
    "\n",
    "$$ = \\frac{1}{8}H\\gamma(\\lambda_1^e - \\lambda_2^e).$$\n",
    "\n",
    "Similarly, with $\\lambda_1^\\nu < \\lambda_2^\\nu$ the first and second eigenvalues of $\\dot{\\varepsilon}$, $\\psi_\\nu$ can be identically rewritten:\n",
    "\n",
    "$$\\psi_\\nu = \\frac{1}{8}H\\gamma(\\lambda_1^\\nu - \\lambda_2^\\nu).$$\n",
    "\n",
    "Now, defining the source terms $f_s$ exactly as in Albrecht and Levermann, we will have $f_s^e = \\psi_e(1 - \\phi_e)$ and $f_s^\\nu = \\psi_\\nu(1 - \\phi_\\nu)$, where $\\phi_{e,\\nu} \\in [0, 1]$ are the damage variables, which must satisfy (in the absence of healing):\n",
    "\n",
    "$$\\frac{\\partial}{\\partial t}\\phi_{e,\\nu} + \\vec{u}\\cdot\\nabla\\phi_{e,\\nu} = f_s^{e,\\nu}.$$ The damage variable $\\phi_{e,\\nu}$ can then be expressed as the solution to the equation\n",
    "\n",
    "$$\\frac{\\partial}{\\partial t}\\phi_{e,\\nu} + \\vec{u}\\cdot\\nabla\\phi_{e,\\nu} = \\frac{1}{8}H\\gamma(\\lambda_1^{e,\\nu} - \\lambda_2^{e,\\nu})(1 - \\phi_{e,\\nu}).$$"
   ]
  }
 ],
 "metadata": {
  "kernelspec": {
   "display_name": "firedrake",
   "language": "python",
   "name": "firedrake"
  },
  "language_info": {
   "codemirror_mode": {
    "name": "ipython",
    "version": 3
   },
   "file_extension": ".py",
   "mimetype": "text/x-python",
   "name": "python",
   "nbconvert_exporter": "python",
   "pygments_lexer": "ipython3",
   "version": "3.8.10"
  }
 },
 "nbformat": 4,
 "nbformat_minor": 5
}
